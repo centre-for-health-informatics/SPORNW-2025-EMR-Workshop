{
 "cells": [
  {
   "cell_type": "markdown",
   "id": "4791c96e-0f9b-4775-bf3e-e650488a959d",
   "metadata": {},
   "source": [
    "# SPOR NW 2025: Exploring the Potential of Electronic Medical Records"
   ]
  },
  {
   "cell_type": "markdown",
   "id": "27daedb2-95cd-4e12-bc79-60cd048a14f1",
   "metadata": {},
   "source": [
    "## Load some made up discharge summaries"
   ]
  },
  {
   "cell_type": "code",
   "execution_count": 7,
   "id": "1213264c-4978-431c-ad86-9ebc6ec7517d",
   "metadata": {},
   "outputs": [],
   "source": [
    "import pandas as pd"
   ]
  },
  {
   "cell_type": "code",
   "execution_count": 8,
   "id": "d94d433f-a468-4a23-a35a-e45ae896b451",
   "metadata": {},
   "outputs": [
    {
     "name": "stdout",
     "output_type": "stream",
     "text": [
      "(20, 2)\n"
     ]
    },
    {
     "data": {
      "text/html": [
       "<div>\n",
       "<style scoped>\n",
       "    .dataframe tbody tr th:only-of-type {\n",
       "        vertical-align: middle;\n",
       "    }\n",
       "\n",
       "    .dataframe tbody tr th {\n",
       "        vertical-align: top;\n",
       "    }\n",
       "\n",
       "    .dataframe thead th {\n",
       "        text-align: right;\n",
       "    }\n",
       "</style>\n",
       "<table border=\"1\" class=\"dataframe\">\n",
       "  <thead>\n",
       "    <tr style=\"text-align: right;\">\n",
       "      <th></th>\n",
       "      <th>title</th>\n",
       "      <th>summary</th>\n",
       "    </tr>\n",
       "  </thead>\n",
       "  <tbody>\n",
       "    <tr>\n",
       "      <th>0</th>\n",
       "      <td>1. Acute Appendicitis</td>\n",
       "      <td>The patient is a 24-year-old male with no sign...</td>\n",
       "    </tr>\n",
       "    <tr>\n",
       "      <th>1</th>\n",
       "      <td>2. Pneumonia (Community-Acquired)</td>\n",
       "      <td>The patient is a 67-year-old female with a his...</td>\n",
       "    </tr>\n",
       "  </tbody>\n",
       "</table>\n",
       "</div>"
      ],
      "text/plain": [
       "                               title  \\\n",
       "0              1. Acute Appendicitis   \n",
       "1  2. Pneumonia (Community-Acquired)   \n",
       "\n",
       "                                             summary  \n",
       "0  The patient is a 24-year-old male with no sign...  \n",
       "1  The patient is a 67-year-old female with a his...  "
      ]
     },
     "execution_count": 8,
     "metadata": {},
     "output_type": "execute_result"
    }
   ],
   "source": [
    "dsum = pd.read_csv(\"https://raw.githubusercontent.com/centre-for-health-informatics/SPORNW-2025-EMR-Workshop/refs/heads/master/synthetic_discharge_summaries.csv\")\n",
    "print(dsum.shape)\n",
    "dsum.head(2)"
   ]
  },
  {
   "cell_type": "markdown",
   "id": "448d356c-84b5-4385-9d39-a431ac990fe2",
   "metadata": {},
   "source": [
    "# Data Overview"
   ]
  },
  {
   "cell_type": "markdown",
   "id": "efb98eec-8ef5-4e92-b2af-1a8a9133b184",
   "metadata": {},
   "source": [
    "# Determining disease status with Natural Language Processing (NLP)"
   ]
  },
  {
   "cell_type": "markdown",
   "id": "fad1a647-e535-4d1d-8475-dbde9779e44d",
   "metadata": {
    "jp-MarkdownHeadingCollapsed": true
   },
   "source": [
    "## Keyword Search"
   ]
  },
  {
   "cell_type": "markdown",
   "id": "b2513d61-fe66-404b-97c4-10f96fb50f16",
   "metadata": {
    "jp-MarkdownHeadingCollapsed": true
   },
   "source": [
    "## Regular Expressions\n",
    "https://www.rexegg.com/regex-quickstart.php"
   ]
  },
  {
   "cell_type": "markdown",
   "id": "ec716e12-54f9-42c7-8c2b-5514906f1c25",
   "metadata": {},
   "source": [
    "## Negations"
   ]
  },
  {
   "cell_type": "markdown",
   "id": "f60c8c2b-32f9-4a11-809e-47eef3ff303e",
   "metadata": {},
   "source": [
    "## Uncertainty"
   ]
  },
  {
   "cell_type": "markdown",
   "id": "b49612d4-da67-4f61-b9f9-e881de16f23d",
   "metadata": {},
   "source": [
    "## Family history"
   ]
  },
  {
   "cell_type": "markdown",
   "id": "69271354-fbd9-4a75-ab80-59014f87f44d",
   "metadata": {},
   "source": [
    "## Extracting Values"
   ]
  },
  {
   "cell_type": "markdown",
   "id": "e85d93b7-11aa-4875-8a28-b241181f89d0",
   "metadata": {},
   "source": [
    "## LLM"
   ]
  }
 ],
 "metadata": {
  "kernelspec": {
   "display_name": "leaderboard",
   "language": "python",
   "name": "leaderboard"
  },
  "language_info": {
   "codemirror_mode": {
    "name": "ipython",
    "version": 3
   },
   "file_extension": ".py",
   "mimetype": "text/x-python",
   "name": "python",
   "nbconvert_exporter": "python",
   "pygments_lexer": "ipython3",
   "version": "3.11.11"
  }
 },
 "nbformat": 4,
 "nbformat_minor": 5
}
