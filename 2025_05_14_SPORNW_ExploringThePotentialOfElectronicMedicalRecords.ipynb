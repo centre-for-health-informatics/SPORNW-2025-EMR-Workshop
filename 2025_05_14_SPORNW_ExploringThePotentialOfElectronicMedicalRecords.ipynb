{
 "cells": [
  {
   "cell_type": "markdown",
   "id": "90bae355",
   "metadata": {},
   "source": [
    "# SPOR NW 2025: Exploring the Potential of Electronic Medical Records"
   ]
  },
  {
   "cell_type": "markdown",
   "id": "771e74d2",
   "metadata": {},
   "source": [
    "## Load some made up discharge summaries"
   ]
  },
  {
   "cell_type": "code",
   "execution_count": 7,
   "id": "82d7af62",
   "metadata": {},
   "outputs": [],
   "source": [
    "import pandas as pd"
   ]
  },
  {
   "cell_type": "code",
   "execution_count": 8,
   "id": "88b7cb3a",
   "metadata": {},
   "outputs": [
    {
     "name": "stdout",
     "output_type": "stream",
     "text": [
      "(20, 2)\n"
     ]
    },
    {
     "data": {
      "text/html": [
       "<div>\n",
       "<style scoped>\n",
       "    .dataframe tbody tr th:only-of-type {\n",
       "        vertical-align: middle;\n",
       "    }\n",
       "\n",
       "    .dataframe tbody tr th {\n",
       "        vertical-align: top;\n",
       "    }\n",
       "\n",
       "    .dataframe thead th {\n",
       "        text-align: right;\n",
       "    }\n",
       "</style>\n",
       "<table border=\"1\" class=\"dataframe\">\n",
       "  <thead>\n",
       "    <tr style=\"text-align: right;\">\n",
       "      <th></th>\n",
       "      <th>title</th>\n",
       "      <th>summary</th>\n",
       "    </tr>\n",
       "  </thead>\n",
       "  <tbody>\n",
       "    <tr>\n",
       "      <th>0</th>\n",
       "      <td>1. Acute Appendicitis</td>\n",
       "      <td>The patient is a 24-year-old male with no sign...</td>\n",
       "    </tr>\n",
       "    <tr>\n",
       "      <th>1</th>\n",
       "      <td>2. Pneumonia (Community-Acquired)</td>\n",
       "      <td>The patient is a 67-year-old female with a his...</td>\n",
       "    </tr>\n",
       "  </tbody>\n",
       "</table>\n",
       "</div>"
      ],
      "text/plain": [
       "                               title  \\\n",
       "0              1. Acute Appendicitis   \n",
       "1  2. Pneumonia (Community-Acquired)   \n",
       "\n",
       "                                             summary  \n",
       "0  The patient is a 24-year-old male with no sign...  \n",
       "1  The patient is a 67-year-old female with a his...  "
      ]
     },
     "execution_count": 8,
     "metadata": {},
     "output_type": "execute_result"
    }
   ],
   "source": [
    "dsum = pd.read_csv(\"https://raw.githubusercontent.com/centre-for-health-informatics/SPORNW-2025-EMR-Workshop/refs/heads/master/synthetic_discharge_summaries.csv\")\n",
    "print(dsum.shape)\n",
    "dsum.head(2)"
   ]
  },
  {
   "cell_type": "markdown",
   "id": "e6bec6d7",
   "metadata": {},
   "source": [
    "# Data Overview"
   ]
  },
  {
   "cell_type": "code",
   "execution_count": 9,
   "id": "70986513",
   "metadata": {},
   "outputs": [
    {
     "data": {
      "text/plain": [
       "0     1361\n",
       "1      935\n",
       "2     1088\n",
       "3      787\n",
       "4      664\n",
       "5      724\n",
       "6      799\n",
       "7      688\n",
       "8      739\n",
       "9      773\n",
       "10     651\n",
       "11     621\n",
       "12     635\n",
       "13     561\n",
       "14     634\n",
       "15     545\n",
       "16     504\n",
       "17     567\n",
       "18     555\n",
       "19     599\n",
       "Name: summary, dtype: int64"
      ]
     },
     "execution_count": 9,
     "metadata": {},
     "output_type": "execute_result"
    }
   ],
   "source": [
    "dsum['summary'].apply(len)"
   ]
  },
  {
   "cell_type": "code",
   "execution_count": 10,
   "id": "c33b134c",
   "metadata": {},
   "outputs": [
    {
     "name": "stdout",
     "output_type": "stream",
     "text": [
      "The patient is a 24-year-old male with no significant past medical history. He presented with acute onset right lower quadrant abdominal pain, nausea, and fever. He has no known history of gastrointestinal disorders, surgeries, or chronic illness, and is a non-smoker who consumes alcohol occasionally. Family history is non-contributory, with no known family history of abdominal disorders.\n",
      "\n",
      "However, the patient’s maternal grandmother has a history of hypertension and diabetes, which was noted during family history assessment.\n",
      "\n",
      "The prognosis is excellent post-appendectomy, as the condition was identified early, and there were no signs of rupture or peritonitis. Barring complications, the patient is expected to return to full function within 2-4 weeks.\n",
      "\n",
      "The patient underwent a laparoscopic appendectomy within 12 hours of presentation. Intraoperative findings were consistent with uncomplicated appendicitis. Post-operative recovery was uneventful, and he tolerated oral intake on postoperative day one. He remained afebrile and ambulatory with good wound healing.\n",
      "\n",
      "The patient is discharged on a 7-day course of oral antibiotics (amoxicillin-clavulanate) and acetaminophen for pain management. He was instructed to avoid strenuous activities and heavy lifting for at least two weeks. Instructions were given regarding wound care and signs of infection.\n"
     ]
    }
   ],
   "source": [
    "print(dsum['summary'].iloc[0])"
   ]
  },
  {
   "cell_type": "markdown",
   "id": "66d1a921",
   "metadata": {},
   "source": [
    "# Determining disease status with Natural Language Processing (NLP)"
   ]
  },
  {
   "cell_type": "markdown",
   "id": "5bcad57c",
   "metadata": {
    "jp-MarkdownHeadingCollapsed": true
   },
   "source": [
    "## Keyword Search"
   ]
  },
  {
   "cell_type": "markdown",
   "id": "4ba165be",
   "metadata": {},
   "source": [
    "## How well does this work?"
   ]
  },
  {
   "cell_type": "markdown",
   "id": "002b82fd",
   "metadata": {},
   "source": [
    "### Accuracy"
   ]
  },
  {
   "cell_type": "markdown",
   "id": "9aa22d5e",
   "metadata": {},
   "source": [
    "### PPV"
   ]
  },
  {
   "cell_type": "markdown",
   "id": "ed4885f1",
   "metadata": {},
   "source": [
    "### Sensitivity"
   ]
  },
  {
   "cell_type": "markdown",
   "id": "3b39b0b8",
   "metadata": {},
   "source": [
    "### NPV"
   ]
  },
  {
   "cell_type": "markdown",
   "id": "1834937e",
   "metadata": {},
   "source": [
    "### Specificity"
   ]
  },
  {
   "cell_type": "markdown",
   "id": "84b2b2f0",
   "metadata": {},
   "source": [
    "### Put them all together in one performance function"
   ]
  },
  {
   "cell_type": "markdown",
   "id": "fb156197",
   "metadata": {},
   "source": [
    "## Where are we getting it wrong?"
   ]
  },
  {
   "cell_type": "markdown",
   "id": "c810c417",
   "metadata": {},
   "source": [
    "### False Positives"
   ]
  },
  {
   "cell_type": "markdown",
   "id": "4cdee311",
   "metadata": {},
   "source": [
    "### False Negatives"
   ]
  },
  {
   "cell_type": "markdown",
   "id": "56d2bd9f",
   "metadata": {
    "jp-MarkdownHeadingCollapsed": true
   },
   "source": [
    "## Regular Expressions\n",
    "https://www.rexegg.com/regex-quickstart.php"
   ]
  },
  {
   "cell_type": "markdown",
   "id": "b911c176",
   "metadata": {},
   "source": [
    "## Negations"
   ]
  },
  {
   "cell_type": "markdown",
   "id": "dd15390a",
   "metadata": {},
   "source": [
    "## Uncertainty"
   ]
  },
  {
   "cell_type": "markdown",
   "id": "48cef433",
   "metadata": {},
   "source": [
    "## Extracting Values"
   ]
  },
  {
   "cell_type": "markdown",
   "id": "c7abb41b",
   "metadata": {},
   "source": [
    "## Family history"
   ]
  },
  {
   "cell_type": "markdown",
   "id": "45e2237a",
   "metadata": {},
   "source": [
    "## LLM"
   ]
  }
 ],
 "metadata": {
  "kernelspec": {
   "display_name": "leaderboard",
   "language": "python",
   "name": "leaderboard"
  },
  "language_info": {
   "codemirror_mode": {
    "name": "ipython",
    "version": 3
   },
   "file_extension": ".py",
   "mimetype": "text/x-python",
   "name": "python",
   "nbconvert_exporter": "python",
   "pygments_lexer": "ipython3",
   "version": "3.11.11"
  },
  "toc-autonumbering": true
 },
 "nbformat": 4,
 "nbformat_minor": 5
}
