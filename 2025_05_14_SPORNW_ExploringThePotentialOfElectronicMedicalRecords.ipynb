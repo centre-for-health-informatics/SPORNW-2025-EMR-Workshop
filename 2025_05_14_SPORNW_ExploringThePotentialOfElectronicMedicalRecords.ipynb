{
 "cells": [
  {
   "cell_type": "markdown",
   "id": "90bae355",
   "metadata": {},
   "source": [
    "# SPOR NW 2025: Exploring the Potential of Electronic Medical Records\n",
    "\n",
    "Based off the GitHub Repo at:\n",
    "https://github.com/centre-for-health-informatics/SPORNW-2025-EMR-Workshop"
   ]
  },
  {
   "cell_type": "markdown",
   "id": "771e74d2",
   "metadata": {},
   "source": [
    "## Load some made up discharge summaries"
   ]
  },
  {
   "cell_type": "code",
   "execution_count": 1,
   "id": "82d7af62",
   "metadata": {},
   "outputs": [],
   "source": [
    "import pandas as pd"
   ]
  },
  {
   "cell_type": "code",
   "execution_count": null,
   "id": "d40c3a79-d6b9-4ba9-b327-f6e334e9159e",
   "metadata": {},
   "outputs": [],
   "source": [
    "# A little code to wrap long lines of text in colab\n",
    "from IPython.display import HTML, display\n",
    "def set_css():\n",
    "    display(HTML('''\n",
    "      <style>\n",
    "        pre {\n",
    "            white-space: pre-wrap;\n",
    "        }\n",
    "      </style>\n",
    "      '''))\n",
    "get_ipython().events.register('pre_run_cell', set_css)"
   ]
  },
  {
   "cell_type": "code",
   "execution_count": 2,
   "id": "88b7cb3a",
   "metadata": {},
   "outputs": [
    {
     "name": "stdout",
     "output_type": "stream",
     "text": [
      "(20, 4)\n"
     ]
    },
    {
     "data": {
      "text/html": [
       "<div>\n",
       "<style scoped>\n",
       "    .dataframe tbody tr th:only-of-type {\n",
       "        vertical-align: middle;\n",
       "    }\n",
       "\n",
       "    .dataframe tbody tr th {\n",
       "        vertical-align: top;\n",
       "    }\n",
       "\n",
       "    .dataframe thead th {\n",
       "        text-align: right;\n",
       "    }\n",
       "</style>\n",
       "<table border=\"1\" class=\"dataframe\">\n",
       "  <thead>\n",
       "    <tr style=\"text-align: right;\">\n",
       "      <th></th>\n",
       "      <th>title</th>\n",
       "      <th>summary</th>\n",
       "      <th>hypertension-status</th>\n",
       "      <th>Age</th>\n",
       "    </tr>\n",
       "  </thead>\n",
       "  <tbody>\n",
       "    <tr>\n",
       "      <th>0</th>\n",
       "      <td>Pneumonia (Community-Acquired)</td>\n",
       "      <td>The patient is a 67-year-old female with a his...</td>\n",
       "      <td>1</td>\n",
       "      <td>67</td>\n",
       "    </tr>\n",
       "    <tr>\n",
       "      <th>1</th>\n",
       "      <td>Acute Cholecystitis</td>\n",
       "      <td>The patient is a 49-year-old male with a BMI o...</td>\n",
       "      <td>0</td>\n",
       "      <td>49</td>\n",
       "    </tr>\n",
       "  </tbody>\n",
       "</table>\n",
       "</div>"
      ],
      "text/plain": [
       "                            title  \\\n",
       "0  Pneumonia (Community-Acquired)   \n",
       "1             Acute Cholecystitis   \n",
       "\n",
       "                                             summary  hypertension-status  Age  \n",
       "0  The patient is a 67-year-old female with a his...                    1   67  \n",
       "1  The patient is a 49-year-old male with a BMI o...                    0   49  "
      ]
     },
     "execution_count": 2,
     "metadata": {},
     "output_type": "execute_result"
    }
   ],
   "source": [
    "dsum = pd.read_csv(\"https://raw.githubusercontent.com/centre-for-health-informatics/SPORNW-2025-EMR-Workshop/refs/heads/master/synthetic_discharge_summaries.csv\")\n",
    "print(dsum.shape)\n",
    "dsum.head(2)"
   ]
  },
  {
   "cell_type": "markdown",
   "id": "e6bec6d7",
   "metadata": {},
   "source": [
    "# Data Overview"
   ]
  },
  {
   "cell_type": "code",
   "execution_count": 3,
   "id": "95ef3bf4-01f0-4f1d-9d0b-72788f874c50",
   "metadata": {},
   "outputs": [
    {
     "data": {
      "text/plain": [
       "hypertension-status\n",
       "0    14\n",
       "1     6\n",
       "Name: count, dtype: int64"
      ]
     },
     "execution_count": 3,
     "metadata": {},
     "output_type": "execute_result"
    }
   ],
   "source": [
    "dsum['hypertension-status'].value_counts()"
   ]
  },
  {
   "cell_type": "code",
   "execution_count": 4,
   "id": "55c593d8-224c-4727-9033-38deefafa640",
   "metadata": {},
   "outputs": [
    {
     "data": {
      "text/plain": [
       "0.3"
      ]
     },
     "execution_count": 4,
     "metadata": {},
     "output_type": "execute_result"
    }
   ],
   "source": [
    "(dsum['hypertension-status']==1).sum()/dsum.shape[0]"
   ]
  },
  {
   "cell_type": "code",
   "execution_count": 5,
   "id": "34c4c404-d5a0-431c-acea-c10d4edd2cce",
   "metadata": {},
   "outputs": [
    {
     "data": {
      "text/plain": [
       "count    20.000000\n",
       "mean     47.350000\n",
       "std      16.840662\n",
       "min      16.000000\n",
       "25%      33.250000\n",
       "50%      50.500000\n",
       "75%      59.000000\n",
       "max      72.000000\n",
       "Name: Age, dtype: float64"
      ]
     },
     "execution_count": 5,
     "metadata": {},
     "output_type": "execute_result"
    }
   ],
   "source": [
    "dsum['Age'].describe()"
   ]
  },
  {
   "cell_type": "code",
   "execution_count": 6,
   "id": "70986513",
   "metadata": {},
   "outputs": [
    {
     "data": {
      "text/plain": [
       "count      20.000000\n",
       "mean      724.650000\n",
       "std       210.718389\n",
       "min       504.000000\n",
       "25%       596.000000\n",
       "50%       665.500000\n",
       "75%       763.250000\n",
       "max      1361.000000\n",
       "Name: summary, dtype: float64"
      ]
     },
     "execution_count": 6,
     "metadata": {},
     "output_type": "execute_result"
    }
   ],
   "source": [
    "dsum['summary'].apply(len).describe()"
   ]
  },
  {
   "cell_type": "code",
   "execution_count": 7,
   "id": "c33b134c",
   "metadata": {},
   "outputs": [
    {
     "name": "stdout",
     "output_type": "stream",
     "text": [
      "The patient is a 67-year-old female with a history of hypertension and type 2 diabetes mellitus. She presented with a 3-day history of fever, productive cough, and shortness of breath. Her physical exam revealed crackles in the right lower lung field. Family history includes a mother with a history of lung cancer and a father who had hypertension and coronary artery disease.\n",
      "\n",
      "The patient was diagnosed with community-acquired pneumonia (CAP) and treated with a course of intravenous ceftriaxone and azithromycin. Her fever resolved by day three, and she demonstrated significant clinical improvement. The patient was switched to oral antibiotics on day five and discharged after a 7-day course.\n",
      "\n",
      "She was advised to monitor her blood glucose levels closely and avoid smoking, as it may worsen her lung condition. The patient was instructed to follow up with her primary care physician within one week to ensure continued improvement.\n"
     ]
    }
   ],
   "source": [
    "print(dsum['summary'].iloc[0])"
   ]
  },
  {
   "cell_type": "markdown",
   "id": "66d1a921",
   "metadata": {},
   "source": [
    "# Determining disease status with Natural Language Processing (NLP)\n",
    "Let's try and determine hypertension status from these discharge summaries"
   ]
  },
  {
   "cell_type": "markdown",
   "id": "5bcad57c",
   "metadata": {},
   "source": [
    "## Keyword Search"
   ]
  },
  {
   "cell_type": "code",
   "execution_count": 8,
   "id": "8a6d8446-9ec1-46ba-9e3e-7d81db3d593d",
   "metadata": {},
   "outputs": [
    {
     "name": "stdout",
     "output_type": "stream",
     "text": [
      "7\n"
     ]
    },
    {
     "data": {
      "text/plain": [
       "0     True\n",
       "1    False\n",
       "2    False\n",
       "3    False\n",
       "4     True\n",
       "Name: summary, dtype: bool"
      ]
     },
     "execution_count": 8,
     "metadata": {},
     "output_type": "execute_result"
    }
   ],
   "source": [
    "htn_1 = dsum['summary'].str.contains('hypertension')\n",
    "print(htn_1.sum())\n",
    "htn_1.head()"
   ]
  },
  {
   "cell_type": "markdown",
   "id": "4ba165be",
   "metadata": {},
   "source": [
    "## How well does this work?\n",
    " - what metrics can we use to assess the performance of our methods"
   ]
  },
  {
   "cell_type": "markdown",
   "id": "002b82fd",
   "metadata": {},
   "source": [
    "### Accuracy\n",
    "- What fraction do we get correct, where 1 is perfect and 0 is perfectly wrong"
   ]
  },
  {
   "cell_type": "code",
   "execution_count": 9,
   "id": "a3bfbac6-bbdb-4ea3-b1b5-bed51b9221fd",
   "metadata": {},
   "outputs": [
    {
     "data": {
      "text/plain": [
       "0.65"
      ]
     },
     "execution_count": 9,
     "metadata": {},
     "output_type": "execute_result"
    }
   ],
   "source": [
    "def acc(reference_labels, our_predictions):\n",
    "    ll = reference_labels == our_predictions\n",
    "    return ll.sum()/ll.shape[0]\n",
    "\n",
    "acc(dsum['hypertension-status'],htn_1)"
   ]
  },
  {
   "cell_type": "markdown",
   "id": "9aa22d5e",
   "metadata": {},
   "source": [
    "### PPV"
   ]
  },
  {
   "cell_type": "code",
   "execution_count": 10,
   "id": "f6cb0443-67a2-4f50-913c-16415b33f865",
   "metadata": {},
   "outputs": [
    {
     "data": {
      "text/plain": [
       "0.42857142857142855"
      ]
     },
     "execution_count": 10,
     "metadata": {},
     "output_type": "execute_result"
    }
   ],
   "source": [
    "def ppv(reference_labels, our_predictions):\n",
    "    ll = (reference_labels == 1) & (our_predictions == 1)\n",
    "    return ll.sum()/our_predictions.sum()\n",
    "\n",
    "ppv(dsum['hypertension-status'],htn_1)"
   ]
  },
  {
   "cell_type": "markdown",
   "id": "ed4885f1",
   "metadata": {},
   "source": [
    "### Sensitivity"
   ]
  },
  {
   "cell_type": "code",
   "execution_count": 11,
   "id": "93dd4a47-f0bd-4064-8749-60330eac39fa",
   "metadata": {},
   "outputs": [
    {
     "data": {
      "text/plain": [
       "0.5"
      ]
     },
     "execution_count": 11,
     "metadata": {},
     "output_type": "execute_result"
    }
   ],
   "source": [
    "def sen(reference_labels, our_predictions):\n",
    "    ll = (reference_labels == 1) & (our_predictions == 1)\n",
    "    return ll.sum()/reference_labels.sum()\n",
    "\n",
    "sen(dsum['hypertension-status'],htn_1)"
   ]
  },
  {
   "cell_type": "markdown",
   "id": "3b39b0b8",
   "metadata": {},
   "source": [
    "### NPV"
   ]
  },
  {
   "cell_type": "code",
   "execution_count": 12,
   "id": "1ddbfb59-216e-4042-a905-a5fb75e6bc59",
   "metadata": {},
   "outputs": [
    {
     "data": {
      "text/plain": [
       "0.7692307692307693"
      ]
     },
     "execution_count": 12,
     "metadata": {},
     "output_type": "execute_result"
    }
   ],
   "source": [
    "def npv(reference_labels, our_predictions):\n",
    "    ll = (reference_labels == 0) & (our_predictions == 0)\n",
    "    return ll.sum()/(~our_predictions).sum()\n",
    "\n",
    "npv(dsum['hypertension-status'],htn_1)"
   ]
  },
  {
   "cell_type": "markdown",
   "id": "1834937e",
   "metadata": {},
   "source": [
    "### Specificity"
   ]
  },
  {
   "cell_type": "code",
   "execution_count": 13,
   "id": "686569d8-08ee-48fc-b46b-88f8910539ab",
   "metadata": {},
   "outputs": [
    {
     "data": {
      "text/plain": [
       "0.7142857142857143"
      ]
     },
     "execution_count": 13,
     "metadata": {},
     "output_type": "execute_result"
    }
   ],
   "source": [
    "def spe(reference_labels, our_predictions):\n",
    "    ll = (reference_labels == 0) & (our_predictions == 0)\n",
    "    return ll.sum()/(reference_labels==0).sum()\n",
    "\n",
    "spe(dsum['hypertension-status'],htn_1)"
   ]
  },
  {
   "cell_type": "markdown",
   "id": "84b2b2f0",
   "metadata": {},
   "source": [
    "### Put them all together in one performance function"
   ]
  },
  {
   "cell_type": "code",
   "execution_count": 14,
   "id": "9224b33d-6653-4bd9-9d8e-679f4ec3e7a6",
   "metadata": {},
   "outputs": [
    {
     "name": "stdout",
     "output_type": "stream",
     "text": [
      "accuracy = 0.65\n",
      "PPV = 0.43\n",
      "Sensitivity = 0.5\n",
      "NPV = 0.77\n",
      "Specificity = 0.71\n"
     ]
    }
   ],
   "source": [
    "def stats(reference_labels, our_predictions):\n",
    "    print(\n",
    "        f\"accuracy = {acc(reference_labels, our_predictions):.2}\",\n",
    "        f\"PPV = {ppv(reference_labels, our_predictions):.2}\",\n",
    "        f\"Sensitivity = {sen(reference_labels, our_predictions):.2}\",\n",
    "        f\"NPV = {npv(reference_labels, our_predictions):.2}\",\n",
    "        f\"Specificity = {spe(reference_labels, our_predictions):.2}\",\n",
    "        sep='\\n',\n",
    "    )\n",
    "stats(dsum['hypertension-status'],htn_1)"
   ]
  },
  {
   "cell_type": "markdown",
   "id": "fb156197",
   "metadata": {},
   "source": [
    "## Where are we getting it wrong?"
   ]
  },
  {
   "cell_type": "markdown",
   "id": "c810c417",
   "metadata": {},
   "source": [
    "### False Positives"
   ]
  },
  {
   "cell_type": "code",
   "execution_count": 15,
   "id": "0ed0ea41-7d4a-4108-9d45-e363e8fcf0bb",
   "metadata": {},
   "outputs": [
    {
     "name": "stdout",
     "output_type": "stream",
     "text": [
      "number:  4\n",
      "index:  4\n",
      "summary:\n",
      " The patient is a 58-year-old diabetic male presenting with redness, warmth, and swelling over his left lower leg. No history of hypertension. He denied any trauma or recent infection in the area. Physical exam revealed localized cellulitis without signs of abscess formation. His blood glucose levels were elevated at the time of admission, reflecting poor diabetes control.\n",
      "\n",
      "The patient was treated with IV antibiotics (vancomycin and piperacillin-tazobactam) for 48 hours, followed by a 7-day course of oral antibiotics (cephalexin). Blood glucose levels were closely monitored, and adjustments were made to his diabetic regimen during hospitalization.\n",
      "\n",
      "The patient was discharged with instructions to keep the leg elevated, monitor for signs of worsening infection, and follow up with his primary care physician in one week.\n"
     ]
    }
   ],
   "source": [
    "def fp(reference_labels, our_predictions):\n",
    "    ll = (reference_labels == 0) & (our_predictions == 1)\n",
    "    n = ll.sum()\n",
    "    print(\"number: \", n)\n",
    "    if n > 0:\n",
    "        print(\"index: \", dsum.loc[ll].index[0])\n",
    "        print(\"summary:\\n\",dsum['summary'].loc[ll].iloc[0])\n",
    "    \n",
    "fp(dsum['hypertension-status'],htn_1)"
   ]
  },
  {
   "cell_type": "markdown",
   "id": "4cdee311",
   "metadata": {},
   "source": [
    "### False Negatives"
   ]
  },
  {
   "cell_type": "code",
   "execution_count": 16,
   "id": "e2448df2-06a5-4542-a39a-03b0a241e509",
   "metadata": {},
   "outputs": [
    {
     "name": "stdout",
     "output_type": "stream",
     "text": [
      "number:  3\n",
      "index:  2\n",
      "summary:\n",
      " The patient is a 62-year-old male with a history of gout. Hypertension present for the past 5 years. He presented with severe pain and swelling in his right great toe. His uric acid level was elevated, and joint aspiration confirmed monosodium urate crystals.\n",
      "\n",
      "The patient was treated with colchicine and NSAIDs for symptom management, and his uric acid levels were adjusted with allopurinol. He was discharged after 48 hours of treatment, with instructions to avoid purine-rich foods and alcohol.\n",
      "\n",
      "He was advised to follow up with his rheumatologist in one month for further management.\n"
     ]
    }
   ],
   "source": [
    "def fn(reference_labels, our_predictions):\n",
    "    ll = (reference_labels == 1) & (our_predictions == 0)\n",
    "    n = ll.sum()\n",
    "    print(\"number: \", n)\n",
    "    if n > 0:\n",
    "        print(\"index: \", dsum.loc[ll].index[0])\n",
    "        print(\"summary:\\n\",dsum['summary'].loc[ll].iloc[0])\n",
    "    \n",
    "fn(dsum['hypertension-status'],htn_1)"
   ]
  },
  {
   "cell_type": "markdown",
   "id": "56d2bd9f",
   "metadata": {},
   "source": [
    "## Regular Expressions\n",
    "https://www.rexegg.com/regex-quickstart.php"
   ]
  },
  {
   "cell_type": "markdown",
   "id": "e53bb9c8-4b53-4b95-a966-157f630170d8",
   "metadata": {},
   "source": [
    "### Can We clear up our False Negatives first?"
   ]
  },
  {
   "cell_type": "code",
   "execution_count": 17,
   "id": "e5ae09ca-3720-4267-93e7-4e26352631a2",
   "metadata": {},
   "outputs": [
    {
     "name": "stdout",
     "output_type": "stream",
     "text": [
      "number:  2\n",
      "index:  3\n",
      "summary:\n",
      " The patient is a 55-year-old male with intermittent asthma. He presented with wheezing, shortness of breath, and cough, which had worsened over the past 48 hours following a viral upper respiratory tract infection. History of HTN. Family history includes a mother with asthma and a brother with allergic rhinitis.\n",
      "\n",
      "The patient was treated with nebulized albuterol and systemic corticosteroids. He showed rapid improvement and was discharged after 24 hours with instructions to use a prescribed inhaler (albuterol) and a 5-day course of prednisone.\n",
      "\n",
      "The patient was advised to avoid triggers such as smoke and dust and to follow up with his pediatric pulmonologist within one week.\n"
     ]
    }
   ],
   "source": [
    "htn_2 = dsum['summary'].str.contains(\"(?i)hypertension\",regex=True)\n",
    "fn(dsum['hypertension-status'],htn_2)"
   ]
  },
  {
   "cell_type": "code",
   "execution_count": 18,
   "id": "f277035b-2633-4678-9981-c8bdb385d76f",
   "metadata": {
    "scrolled": true
   },
   "outputs": [
    {
     "name": "stdout",
     "output_type": "stream",
     "text": [
      "number:  1\n",
      "index:  6\n",
      "summary:\n",
      " The patient is a 58-year-old female  presenting with severe headache, blurred vision, and chest discomfort, suggesting a hypertensive crisis. Her blood pressure was recorded at 220/130 mmHg upon arrival.\n",
      "\n",
      "The patient was started on IV labetalol and was closely monitored in the ICU. Her blood pressure was controlled over 48 hours, and she was transitioned to oral antihypertensives. Upon discharge, she was instructed to monitor her blood pressure at home and follow up with her cardiologist in one week.\n"
     ]
    }
   ],
   "source": [
    "htn_3 = dsum['summary'].str.contains(\"(?i)(?:hypertension|htn)\",regex=True)\n",
    "fn(dsum['hypertension-status'],htn_3)"
   ]
  },
  {
   "cell_type": "code",
   "execution_count": 19,
   "id": "c521030e-f238-47b7-afa7-db439ac85b40",
   "metadata": {},
   "outputs": [
    {
     "name": "stdout",
     "output_type": "stream",
     "text": [
      "number:  0\n"
     ]
    }
   ],
   "source": [
    "htn_4 = dsum['summary'].str.contains(\"(?i)(?:hypertension|htn|hypertensive)\",regex=True)\n",
    "fn(dsum['hypertension-status'],htn_4)"
   ]
  },
  {
   "cell_type": "markdown",
   "id": "233a397e-a9e6-4820-96b3-96ce32e29d5e",
   "metadata": {},
   "source": [
    "### How do the False Positives look now after those changes?"
   ]
  },
  {
   "cell_type": "code",
   "execution_count": 20,
   "id": "679255fe-e35b-4008-b010-ab5302ffe549",
   "metadata": {
    "scrolled": true
   },
   "outputs": [
    {
     "name": "stdout",
     "output_type": "stream",
     "text": [
      "number:  5\n",
      "index:  1\n",
      "summary:\n",
      " The patient is a 49-year-old male with a BMI of 35 and a history of gallstones, and struck by lightning 5 years ago. He presented with a 48-hour history of severe right upper quadrant pain, nausea, and vomiting. Ultrasound confirmed acute cholecystitis with no signs of gallbladder perforation or abscess formation. The patient has a known family history of gallbladder disease in his mother, who underwent cholecystectomy. His father had type 2 diabetes, and he is currently overweight with elevated blood sugar.\n",
      "\n",
      "The patient underwent a laparoscopic cholecystectomy within 24 hours of presentation. Intraoperative findings included an inflamed but intact gallbladder with no complications. His post-operative recovery was uncomplicated, and he was started on clear liquids within 6 hours.\n",
      "\n",
      "Discharge instructions included a low-fat diet for the next few weeks and recommendations for weight management. He is prescribed a 7-day course of oral antibiotics (ciprofloxacin) and pain management with acetaminophen.\n",
      "\n",
      "The patient was instructed to avoid heavy lifting for 2-4 weeks and follow up with general surgery in one week.\n"
     ]
    }
   ],
   "source": [
    "fp(dsum['hypertension-status'],htn_4)"
   ]
  },
  {
   "cell_type": "markdown",
   "id": "90c68a23-5067-4b22-bb6e-0f2dae601560",
   "metadata": {},
   "source": [
    "#### Can use regex word boundaries to make sure we're searching for individual words/acronyms"
   ]
  },
  {
   "cell_type": "code",
   "execution_count": 21,
   "id": "976a9bed-b241-40a3-9540-d6ff5a369f4c",
   "metadata": {},
   "outputs": [
    {
     "name": "stdout",
     "output_type": "stream",
     "text": [
      "number:  4\n",
      "index:  4\n",
      "summary:\n",
      " The patient is a 58-year-old diabetic male presenting with redness, warmth, and swelling over his left lower leg. No history of hypertension. He denied any trauma or recent infection in the area. Physical exam revealed localized cellulitis without signs of abscess formation. His blood glucose levels were elevated at the time of admission, reflecting poor diabetes control.\n",
      "\n",
      "The patient was treated with IV antibiotics (vancomycin and piperacillin-tazobactam) for 48 hours, followed by a 7-day course of oral antibiotics (cephalexin). Blood glucose levels were closely monitored, and adjustments were made to his diabetic regimen during hospitalization.\n",
      "\n",
      "The patient was discharged with instructions to keep the leg elevated, monitor for signs of worsening infection, and follow up with his primary care physician in one week.\n"
     ]
    }
   ],
   "source": [
    "htn_5 = dsum['summary'].str.contains(r\"(?i)\\b(?:hypertension|htn|hypertensive)\\b\",regex=True)\n",
    "fp(dsum['hypertension-status'],htn_5)"
   ]
  },
  {
   "cell_type": "markdown",
   "id": "f8ddecbc-b8f2-4357-aa76-4d0af2696f21",
   "metadata": {},
   "source": [
    "### How are we doing now"
   ]
  },
  {
   "cell_type": "code",
   "execution_count": 22,
   "id": "9badb3af-d3c9-40a8-91c2-65898a4109ef",
   "metadata": {},
   "outputs": [
    {
     "name": "stdout",
     "output_type": "stream",
     "text": [
      "accuracy = 0.8\n",
      "PPV = 0.6\n",
      "Sensitivity = 1.0\n",
      "NPV = 1.0\n",
      "Specificity = 0.71\n"
     ]
    }
   ],
   "source": [
    "stats(dsum['hypertension-status'],htn_5)"
   ]
  },
  {
   "cell_type": "markdown",
   "id": "b911c176",
   "metadata": {},
   "source": [
    "## Negations\n",
    "Popular **NegEx** algorithm is a much more sophisticated version of what I'll show here\n",
    "Chapman WW, Bridewell W, Hanbury P, Cooper GF, Buchanan BG. A Simple Algorithm for Identifying Negated Findings and Diseases in Discharge Summaries. Journal of Biomedical Informatics. 2001;34(5):301-310. doi:10.1006/jbin.2001.1029\n"
   ]
  },
  {
   "cell_type": "code",
   "execution_count": 23,
   "id": "9872dab5-9ba5-46de-b1f5-d4983ff029b5",
   "metadata": {},
   "outputs": [
    {
     "name": "stdout",
     "output_type": "stream",
     "text": [
      "number:  2\n",
      "index:  5\n",
      "summary:\n",
      " The patient is a 34-year-old female with a known history of migraines with aura. Possible hypertension. She presented with a severe headache associated with visual disturbances and nausea. The headache was of sudden onset and had been persistent for the past 12 hours. Her family history includes a maternal aunt with a history of migraines.\n",
      "\n",
      "The patient was treated with intravenous fluids, antiemetics, and a dose of sumatriptan. Symptoms improved significantly within 4 hours, and she was discharged with oral medications to manage future episodes. She was instructed to avoid known migraine triggers, such as stress and bright lights.\n",
      "\n",
      "The patient was advised to follow up with her neurologist in one month.\n"
     ]
    }
   ],
   "source": [
    "def get_htn_6(dsum):\n",
    "    la = dsum.str.contains(r\"(?i)\\b(?:hypertension|htn|hypertensive)\\b\",regex=True)\n",
    "    ln = dsum.str.contains(r\"(?i)\\bno\\b.*\\b(?:hypertension|htn|hypertensive)\\b\",regex=True)\n",
    "    return la & ~ln\n",
    "\n",
    "htn_6 = get_htn_6(dsum['summary'])\n",
    "fp(dsum['hypertension-status'],htn_6)"
   ]
  },
  {
   "cell_type": "code",
   "execution_count": 24,
   "id": "38151ebd-b441-4a77-8c11-29facded01f0",
   "metadata": {},
   "outputs": [
    {
     "name": "stdout",
     "output_type": "stream",
     "text": [
      "accuracy = 0.9\n",
      "PPV = 0.75\n",
      "Sensitivity = 1.0\n",
      "NPV = 1.0\n",
      "Specificity = 0.86\n"
     ]
    }
   ],
   "source": [
    "stats(dsum['hypertension-status'],htn_6)"
   ]
  },
  {
   "cell_type": "markdown",
   "id": "dd15390a",
   "metadata": {},
   "source": [
    "## Uncertainty"
   ]
  },
  {
   "cell_type": "code",
   "execution_count": 25,
   "id": "e9215136-b908-423f-ba0b-7e789bbe660e",
   "metadata": {},
   "outputs": [
    {
     "name": "stdout",
     "output_type": "stream",
     "text": [
      "number:  1\n",
      "index:  18\n",
      "summary:\n",
      " The patient is a 24-year-old male with no significant past medical history. He presented with acute onset right lower quadrant abdominal pain, nausea, and fever. He has no known history of gastrointestinal disorders, surgeries, or chronic illness, and is a non-smoker who consumes alcohol occasionally. Family history is non-contributory, with no known family history of abdominal disorders.\n",
      "\n",
      "However, the patient’s maternal grandmother has a history of hypertension and diabetes, which was noted during family history assessment.\n",
      "\n",
      "The prognosis is excellent post-appendectomy, as the condition was identified early, and there were no signs of rupture or peritonitis. Barring complications, the patient is expected to return to full function within 2-4 weeks.\n",
      "\n",
      "The patient underwent a laparoscopic appendectomy within 12 hours of presentation. Intraoperative findings were consistent with uncomplicated appendicitis. Post-operative recovery was uneventful, and he tolerated oral intake on postoperative day one. He remained afebrile and ambulatory with good wound healing.\n",
      "\n",
      "The patient is discharged on a 7-day course of oral antibiotics (amoxicillin-clavulanate) and acetaminophen for pain management. He was instructed to avoid strenuous activities and heavy lifting for at least two weeks. Instructions were given regarding wound care and signs of infection.\n"
     ]
    }
   ],
   "source": [
    "def get_htn_7(dsum):\n",
    "    la = dsum.str.contains(r\"(?i)\\b(?:hypertension|htn|hypertensive)\\b\",regex=True)\n",
    "    ln = dsum.str.contains(r\"(?i)\\bno\\b.*\\b(?:hypertension|htn|hypertensive)\\b\",regex=True)\n",
    "    lu = dsum.str.contains(r\"(?i)\\bpossible\\b.*\\b(?:hypertension|htn|hypertensive)\\b\",regex=True)\n",
    "    return la & ~ln & ~lu\n",
    "\n",
    "htn_7 = get_htn_7(dsum['summary'])\n",
    "fp(dsum['hypertension-status'],htn_7)"
   ]
  },
  {
   "cell_type": "code",
   "execution_count": 26,
   "id": "00f97b4c-d92a-46cc-884e-dd0b2c4f0fd0",
   "metadata": {},
   "outputs": [
    {
     "name": "stdout",
     "output_type": "stream",
     "text": [
      "accuracy = 0.95\n",
      "PPV = 0.86\n",
      "Sensitivity = 1.0\n",
      "NPV = 1.0\n",
      "Specificity = 0.93\n"
     ]
    }
   ],
   "source": [
    "stats(dsum['hypertension-status'],htn_7)"
   ]
  },
  {
   "cell_type": "markdown",
   "id": "48cef433",
   "metadata": {},
   "source": [
    "## Extracting Values (Age)\n",
    "- really only works this well due to regularities in ChatGPT output used to initialize the synthetic discharge summaries."
   ]
  },
  {
   "cell_type": "code",
   "execution_count": 27,
   "id": "03959534-8345-4abe-b709-f482066ae010",
   "metadata": {},
   "outputs": [
    {
     "data": {
      "text/html": [
       "<div>\n",
       "<style scoped>\n",
       "    .dataframe tbody tr th:only-of-type {\n",
       "        vertical-align: middle;\n",
       "    }\n",
       "\n",
       "    .dataframe tbody tr th {\n",
       "        vertical-align: top;\n",
       "    }\n",
       "\n",
       "    .dataframe thead th {\n",
       "        text-align: right;\n",
       "    }\n",
       "</style>\n",
       "<table border=\"1\" class=\"dataframe\">\n",
       "  <thead>\n",
       "    <tr style=\"text-align: right;\">\n",
       "      <th></th>\n",
       "      <th>0</th>\n",
       "    </tr>\n",
       "  </thead>\n",
       "  <tbody>\n",
       "    <tr>\n",
       "      <th>0</th>\n",
       "      <td>67</td>\n",
       "    </tr>\n",
       "    <tr>\n",
       "      <th>1</th>\n",
       "      <td>49</td>\n",
       "    </tr>\n",
       "    <tr>\n",
       "      <th>2</th>\n",
       "      <td>62</td>\n",
       "    </tr>\n",
       "    <tr>\n",
       "      <th>3</th>\n",
       "      <td>55</td>\n",
       "    </tr>\n",
       "    <tr>\n",
       "      <th>4</th>\n",
       "      <td>58</td>\n",
       "    </tr>\n",
       "  </tbody>\n",
       "</table>\n",
       "</div>"
      ],
      "text/plain": [
       "    0\n",
       "0  67\n",
       "1  49\n",
       "2  62\n",
       "3  55\n",
       "4  58"
      ]
     },
     "execution_count": 27,
     "metadata": {},
     "output_type": "execute_result"
    }
   ],
   "source": [
    "ages = dsum['summary'].str.extract(r\"(\\d{1,3})-year-old\")\n",
    "ages.head()"
   ]
  },
  {
   "cell_type": "code",
   "execution_count": 28,
   "id": "986e23b7-e5d7-4a34-a59e-10e406e66829",
   "metadata": {},
   "outputs": [
    {
     "data": {
      "text/html": [
       "<div>\n",
       "<style scoped>\n",
       "    .dataframe tbody tr th:only-of-type {\n",
       "        vertical-align: middle;\n",
       "    }\n",
       "\n",
       "    .dataframe tbody tr th {\n",
       "        vertical-align: top;\n",
       "    }\n",
       "\n",
       "    .dataframe thead th {\n",
       "        text-align: right;\n",
       "    }\n",
       "</style>\n",
       "<table border=\"1\" class=\"dataframe\">\n",
       "  <thead>\n",
       "    <tr style=\"text-align: right;\">\n",
       "      <th></th>\n",
       "      <th>0</th>\n",
       "      <th>Age</th>\n",
       "    </tr>\n",
       "  </thead>\n",
       "  <tbody>\n",
       "    <tr>\n",
       "      <th>0</th>\n",
       "      <td>67</td>\n",
       "      <td>67</td>\n",
       "    </tr>\n",
       "    <tr>\n",
       "      <th>1</th>\n",
       "      <td>49</td>\n",
       "      <td>49</td>\n",
       "    </tr>\n",
       "    <tr>\n",
       "      <th>2</th>\n",
       "      <td>62</td>\n",
       "      <td>62</td>\n",
       "    </tr>\n",
       "    <tr>\n",
       "      <th>3</th>\n",
       "      <td>55</td>\n",
       "      <td>55</td>\n",
       "    </tr>\n",
       "    <tr>\n",
       "      <th>4</th>\n",
       "      <td>58</td>\n",
       "      <td>58</td>\n",
       "    </tr>\n",
       "    <tr>\n",
       "      <th>5</th>\n",
       "      <td>34</td>\n",
       "      <td>34</td>\n",
       "    </tr>\n",
       "    <tr>\n",
       "      <th>6</th>\n",
       "      <td>58</td>\n",
       "      <td>58</td>\n",
       "    </tr>\n",
       "    <tr>\n",
       "      <th>7</th>\n",
       "      <td>26</td>\n",
       "      <td>26</td>\n",
       "    </tr>\n",
       "    <tr>\n",
       "      <th>8</th>\n",
       "      <td>63</td>\n",
       "      <td>63</td>\n",
       "    </tr>\n",
       "    <tr>\n",
       "      <th>9</th>\n",
       "      <td>58</td>\n",
       "      <td>58</td>\n",
       "    </tr>\n",
       "    <tr>\n",
       "      <th>10</th>\n",
       "      <td>71</td>\n",
       "      <td>71</td>\n",
       "    </tr>\n",
       "    <tr>\n",
       "      <th>11</th>\n",
       "      <td>52</td>\n",
       "      <td>52</td>\n",
       "    </tr>\n",
       "    <tr>\n",
       "      <th>12</th>\n",
       "      <td>45</td>\n",
       "      <td>45</td>\n",
       "    </tr>\n",
       "    <tr>\n",
       "      <th>13</th>\n",
       "      <td>35</td>\n",
       "      <td>35</td>\n",
       "    </tr>\n",
       "    <tr>\n",
       "      <th>14</th>\n",
       "      <td>72</td>\n",
       "      <td>72</td>\n",
       "    </tr>\n",
       "    <tr>\n",
       "      <th>15</th>\n",
       "      <td>29</td>\n",
       "      <td>29</td>\n",
       "    </tr>\n",
       "    <tr>\n",
       "      <th>16</th>\n",
       "      <td>16</td>\n",
       "      <td>16</td>\n",
       "    </tr>\n",
       "    <tr>\n",
       "      <th>17</th>\n",
       "      <td>42</td>\n",
       "      <td>42</td>\n",
       "    </tr>\n",
       "    <tr>\n",
       "      <th>18</th>\n",
       "      <td>24</td>\n",
       "      <td>24</td>\n",
       "    </tr>\n",
       "    <tr>\n",
       "      <th>19</th>\n",
       "      <td>31</td>\n",
       "      <td>31</td>\n",
       "    </tr>\n",
       "  </tbody>\n",
       "</table>\n",
       "</div>"
      ],
      "text/plain": [
       "     0  Age\n",
       "0   67   67\n",
       "1   49   49\n",
       "2   62   62\n",
       "3   55   55\n",
       "4   58   58\n",
       "5   34   34\n",
       "6   58   58\n",
       "7   26   26\n",
       "8   63   63\n",
       "9   58   58\n",
       "10  71   71\n",
       "11  52   52\n",
       "12  45   45\n",
       "13  35   35\n",
       "14  72   72\n",
       "15  29   29\n",
       "16  16   16\n",
       "17  42   42\n",
       "18  24   24\n",
       "19  31   31"
      ]
     },
     "execution_count": 28,
     "metadata": {},
     "output_type": "execute_result"
    }
   ],
   "source": [
    "pd.concat([ages,dsum['Age']],axis=1)"
   ]
  },
  {
   "cell_type": "markdown",
   "id": "45e2237a",
   "metadata": {},
   "source": [
    "## LLM\n",
    "https://huggingface.co/Qwen/Qwen3-0.6B"
   ]
  },
  {
   "cell_type": "code",
   "execution_count": 29,
   "id": "f0cc47d7-b229-4082-9275-e386a42094f6",
   "metadata": {
    "scrolled": true
   },
   "outputs": [
    {
     "name": "stderr",
     "output_type": "stream",
     "text": [
      "/home/elmo/miniconda3/envs/leaderboard/lib/python3.11/site-packages/tqdm/auto.py:21: TqdmWarning: IProgress not found. Please update jupyter and ipywidgets. See https://ipywidgets.readthedocs.io/en/stable/user_install.html\n",
      "  from .autonotebook import tqdm as notebook_tqdm\n"
     ]
    },
    {
     "name": "stdout",
     "output_type": "stream",
     "text": [
      "thinking content: <think>\n",
      "Okay, the user wants a short introduction to a large language model. Let me start by recalling what I know about them. A large language model is a type of artificial intelligence that can understand and generate human language. They're trained on massive datasets to learn patterns and improve their responses.\n",
      "\n",
      "I should mention their ability to understand and generate text, maybe some examples. Also, their applications in various fields like customer service, content creation, etc. Need to keep it concise but informative. Avoid technical jargon if possible. Make sure it's a friendly and engaging opening. Let me check if I'm covering all key points without getting too detailed. Yes, that should work.\n",
      "</think>\n",
      "content: A large language model (LLM) is an artificial intelligence system designed to understand and generate human language. It learns from vast datasets, enabling it to comprehend context, understand nuances, and produce coherent responses. These models are used across industries for tasks like content creation, customer service, and creative writing, offering tools that bridge the gap between human and machine intelligence.\n"
     ]
    }
   ],
   "source": [
    "from transformers import AutoModelForCausalLM, AutoTokenizer\n",
    "\n",
    "model_name = \"Qwen/Qwen3-0.6B\"\n",
    "\n",
    "# load the tokenizer and the model\n",
    "tokenizer = AutoTokenizer.from_pretrained(model_name)\n",
    "model = AutoModelForCausalLM.from_pretrained(\n",
    "    model_name,\n",
    "    torch_dtype=\"auto\",\n",
    "    device_map=\"auto\"\n",
    ")\n",
    "\n",
    "# prepare the model input\n",
    "prompt = \"Give me a short introduction to large language model.\"\n",
    "messages = [\n",
    "    {\"role\": \"user\", \"content\": prompt}\n",
    "]\n",
    "text = tokenizer.apply_chat_template(\n",
    "    messages,\n",
    "    tokenize=False,\n",
    "    add_generation_prompt=True,\n",
    "    enable_thinking=True # Switches between thinking and non-thinking modes. Default is True.\n",
    ")\n",
    "model_inputs = tokenizer([text], return_tensors=\"pt\").to(model.device)\n",
    "\n",
    "# conduct text completion\n",
    "generated_ids = model.generate(\n",
    "    **model_inputs,\n",
    "    max_new_tokens=32768\n",
    ")\n",
    "output_ids = generated_ids[0][len(model_inputs.input_ids[0]):].tolist() \n",
    "\n",
    "# parsing thinking content\n",
    "try:\n",
    "    # rindex finding 151668 (</think>)\n",
    "    index = len(output_ids) - output_ids[::-1].index(151668)\n",
    "except ValueError:\n",
    "    index = 0\n",
    "\n",
    "thinking_content = tokenizer.decode(output_ids[:index], skip_special_tokens=True).strip(\"\\n\")\n",
    "content = tokenizer.decode(output_ids[index:], skip_special_tokens=True).strip(\"\\n\")\n",
    "\n",
    "print(\"thinking content:\", thinking_content)\n",
    "print(\"content:\", content)\n"
   ]
  },
  {
   "cell_type": "code",
   "execution_count": 30,
   "id": "32fee5dd-8695-4f22-8c2b-0d1cbb443929",
   "metadata": {},
   "outputs": [],
   "source": [
    "def llm(prompt):\n",
    "    \n",
    "    messages = [\n",
    "        {\"role\": \"user\", \"content\": prompt}\n",
    "    ]\n",
    "    text = tokenizer.apply_chat_template(\n",
    "        messages,\n",
    "        tokenize=False,\n",
    "        add_generation_prompt=True,\n",
    "        enable_thinking=True # Switches between thinking and non-thinking modes. Default is True.\n",
    "    )\n",
    "    model_inputs = tokenizer([text], return_tensors=\"pt\").to(model.device)\n",
    "    \n",
    "    # conduct text completion\n",
    "    generated_ids = model.generate(\n",
    "        **model_inputs,\n",
    "        max_new_tokens=2000 #shrinking this to truncate output\n",
    "    )\n",
    "    output_ids = generated_ids[0][len(model_inputs.input_ids[0]):].tolist() \n",
    "    \n",
    "    # parsing thinking content\n",
    "    try:\n",
    "        # rindex finding 151668 (</think>)\n",
    "        index = len(output_ids) - output_ids[::-1].index(151668)\n",
    "    except ValueError:\n",
    "        index = 0\n",
    "    \n",
    "    thinking_content = tokenizer.decode(output_ids[:index], skip_special_tokens=True).strip(\"\\n\")\n",
    "    content = tokenizer.decode(output_ids[index:], skip_special_tokens=True).strip(\"\\n\")\n",
    "    \n",
    "    print(\"\\n\\nthinking content:\\n\", thinking_content)\n",
    "    print(\"\\n\\ncontent:\\n\", content)"
   ]
  },
  {
   "cell_type": "code",
   "execution_count": 31,
   "id": "cf573803-6f81-46d4-a985-d73e18d77dd5",
   "metadata": {
    "scrolled": true
   },
   "outputs": [
    {
     "name": "stdout",
     "output_type": "stream",
     "text": [
      "Original Discharge Summary:\n",
      " The patient is a 67-year-old female with a history of hypertension and type 2 diabetes mellitus. She presented with a 3-day history of fever, productive cough, and shortness of breath. Her physical exam revealed crackles in the right lower lung field. Family history includes a mother with a history of lung cancer and a father who had hypertension and coronary artery disease.\n",
      "\n",
      "The patient was diagnosed with community-acquired pneumonia (CAP) and treated with a course of intravenous ceftriaxone and azithromycin. Her fever resolved by day three, and she demonstrated significant clinical improvement. The patient was switched to oral antibiotics on day five and discharged after a 7-day course.\n",
      "\n",
      "She was advised to monitor her blood glucose levels closely and avoid smoking, as it may worsen her lung condition. The patient was instructed to follow up with her primary care physician within one week to ensure continued improvement.\n",
      "\n",
      "\n",
      "thinking content:\n",
      " <think>\n",
      "Okay, let's see. The user wants to check if the patient has hypertension. The chart mentions she has a history of hypertension and type 2 diabetes. So, hypertension is present. I need to make sure there's no conflicting information. The patient was diagnosed with CAP, which is a pneumonia, and the treatment included antibiotics. There's no mention of other complications like heart issues or other conditions. The family history includes a mother with lung cancer and a father with hypertension, but that's more about her family than the patient's own condition. The answer should be #Y# since hypertension is present.\n",
      "</think>\n",
      "\n",
      "\n",
      "content:\n",
      " #Y#\n"
     ]
    }
   ],
   "source": [
    "ds = dsum['summary'].iloc[0]\n",
    "\n",
    "prompt = f\"\"\" \n",
    "You're performing medical chart review to determine if the patient has hypertension:\n",
    "\n",
    "If hypertension is present print #Y# and if not present print #N#\n",
    "\n",
    "Chart:\n",
    "{ds}\n",
    "\"\"\"\n",
    "\n",
    "print(\"Original Discharge Summary:\\n\", ds)\n",
    "\n",
    "llm(prompt)"
   ]
  },
  {
   "cell_type": "markdown",
   "id": "0c3a5645-532e-4ce5-9838-02eac5455cff",
   "metadata": {},
   "source": [
    "### Let's revisit the family history"
   ]
  },
  {
   "cell_type": "code",
   "execution_count": 32,
   "id": "2b53fd4c-ea39-405f-9e16-ce1ebe512a4f",
   "metadata": {},
   "outputs": [
    {
     "name": "stdout",
     "output_type": "stream",
     "text": [
      "number:  1\n",
      "index:  18\n",
      "summary:\n",
      " The patient is a 24-year-old male with no significant past medical history. He presented with acute onset right lower quadrant abdominal pain, nausea, and fever. He has no known history of gastrointestinal disorders, surgeries, or chronic illness, and is a non-smoker who consumes alcohol occasionally. Family history is non-contributory, with no known family history of abdominal disorders.\n",
      "\n",
      "However, the patient’s maternal grandmother has a history of hypertension and diabetes, which was noted during family history assessment.\n",
      "\n",
      "The prognosis is excellent post-appendectomy, as the condition was identified early, and there were no signs of rupture or peritonitis. Barring complications, the patient is expected to return to full function within 2-4 weeks.\n",
      "\n",
      "The patient underwent a laparoscopic appendectomy within 12 hours of presentation. Intraoperative findings were consistent with uncomplicated appendicitis. Post-operative recovery was uneventful, and he tolerated oral intake on postoperative day one. He remained afebrile and ambulatory with good wound healing.\n",
      "\n",
      "The patient is discharged on a 7-day course of oral antibiotics (amoxicillin-clavulanate) and acetaminophen for pain management. He was instructed to avoid strenuous activities and heavy lifting for at least two weeks. Instructions were given regarding wound care and signs of infection.\n"
     ]
    }
   ],
   "source": [
    "fp(dsum['hypertension-status'],htn_7)"
   ]
  },
  {
   "cell_type": "code",
   "execution_count": 33,
   "id": "a8ce6c11-691e-437b-a52f-cc146a514a47",
   "metadata": {
    "scrolled": true
   },
   "outputs": [
    {
     "name": "stdout",
     "output_type": "stream",
     "text": [
      "Original Discharge Summary: The patient is a 24-year-old male with no significant past medical history. He presented with acute onset right lower quadrant abdominal pain, nausea, and fever. He has no known history of gastrointestinal disorders, surgeries, or chronic illness, and is a non-smoker who consumes alcohol occasionally. Family history is non-contributory, with no known family history of abdominal disorders.\n",
      "\n",
      "However, the patient’s maternal grandmother has a history of hypertension and diabetes, which was noted during family history assessment.\n",
      "\n",
      "The prognosis is excellent post-appendectomy, as the condition was identified early, and there were no signs of rupture or peritonitis. Barring complications, the patient is expected to return to full function within 2-4 weeks.\n",
      "\n",
      "The patient underwent a laparoscopic appendectomy within 12 hours of presentation. Intraoperative findings were consistent with uncomplicated appendicitis. Post-operative recovery was uneventful, and he tolerated oral intake on postoperative day one. He remained afebrile and ambulatory with good wound healing.\n",
      "\n",
      "The patient is discharged on a 7-day course of oral antibiotics (amoxicillin-clavulanate) and acetaminophen for pain management. He was instructed to avoid strenuous activities and heavy lifting for at least two weeks. Instructions were given regarding wound care and signs of infection.\n",
      "\n",
      "\n",
      "thinking content:\n",
      " <think>\n",
      "Okay, let's see. The task is to determine if the patient has hypertension based on the provided chart. The answer should be either #Y# or #N#.\n",
      "\n",
      "First, I need to check the chart for any mention of hypertension. Let me go through the information step by step.\n",
      "\n",
      "The patient is a 24-year-old male with no significant past medical history. Then he presented with acute onset right lower quadrant abdominal pain, nausea, and fever. He has no known history of gastrointestinal disorders, surgeries, or chronic illness, and is a non-smoker who consumes alcohol occasionally. His family history is non-contributory, with no known family history of abdominal disorders. \n",
      "\n",
      "However, the patient’s maternal grandmother has a history of hypertension and diabetes, which was noted during family history assessment. \n",
      "\n",
      "So, the key point here is the grandmother's history. Since hypertension is mentioned in the family history, does that mean the patient has hypertension? Wait, the question is about the patient's own hypertension. The chart says the grandmother has hypertension and diabetes, but does that affect the patient's own condition?\n",
      "\n",
      "In medical charts, if a family member has a history, it's possible that the patient could have a similar condition. However, the chart doesn't explicitly state that the patient has hypertension. It only mentions that the grandmother has it. So, the presence of hypertension in the family history might indicate a possible history, but the patient's own condition isn't directly stated. \n",
      "\n",
      "The other information includes the patient's laparoscopic appendectomy, which was uncomplicated, and the post-operative recovery. There's no mention of hypertension in the medical details provided. \n",
      "\n",
      "Therefore, based on the information given, there's no direct evidence of hypertension in the patient's medical history. The only mention is about the grandmother's history, which doesn't confirm the patient's own condition. So, the answer should be #N# because there's no hypertension mentioned in the chart.\n",
      "</think>\n",
      "\n",
      "\n",
      "content:\n",
      " #N#\n"
     ]
    }
   ],
   "source": [
    "ds = dsum['summary'].loc[18]\n",
    "\n",
    "prompt = f\"\"\" \n",
    "You're performing medical chart review to determine if the patient has hypertension:\n",
    "\n",
    "If hypertension is present print #Y# and if not present print #N#\n",
    "\n",
    "Chart:\n",
    "{ds}\n",
    "\"\"\"\n",
    "\n",
    "print(\"Original Discharge Summary:\", ds)\n",
    "\n",
    "llm(prompt)"
   ]
  }
 ],
 "metadata": {
  "kernelspec": {
   "display_name": "leaderboard",
   "language": "python",
   "name": "leaderboard"
  },
  "language_info": {
   "codemirror_mode": {
    "name": "ipython",
    "version": 3
   },
   "file_extension": ".py",
   "mimetype": "text/x-python",
   "name": "python",
   "nbconvert_exporter": "python",
   "pygments_lexer": "ipython3",
   "version": "3.11.11"
  },
  "toc-autonumbering": true
 },
 "nbformat": 4,
 "nbformat_minor": 5
}
