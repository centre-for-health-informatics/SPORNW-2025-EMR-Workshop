{
 "cells": [
  {
   "cell_type": "markdown",
   "id": "90bae355",
   "metadata": {},
   "source": [
    "# SPOR NW 2025: Exploring the Potential of Electronic Medical Records"
   ]
  },
  {
   "cell_type": "markdown",
   "id": "771e74d2",
   "metadata": {},
   "source": [
    "## Load some made up discharge summaries"
   ]
  },
  {
   "cell_type": "code",
   "execution_count": 1,
   "id": "82d7af62",
   "metadata": {},
   "outputs": [],
   "source": [
    "import pandas as pd"
   ]
  },
  {
   "cell_type": "code",
   "execution_count": 4,
   "id": "88b7cb3a",
   "metadata": {},
   "outputs": [
    {
     "name": "stdout",
     "output_type": "stream",
     "text": [
      "(20, 4)\n"
     ]
    },
    {
     "data": {
      "text/html": [
       "<div>\n",
       "<style scoped>\n",
       "    .dataframe tbody tr th:only-of-type {\n",
       "        vertical-align: middle;\n",
       "    }\n",
       "\n",
       "    .dataframe tbody tr th {\n",
       "        vertical-align: top;\n",
       "    }\n",
       "\n",
       "    .dataframe thead th {\n",
       "        text-align: right;\n",
       "    }\n",
       "</style>\n",
       "<table border=\"1\" class=\"dataframe\">\n",
       "  <thead>\n",
       "    <tr style=\"text-align: right;\">\n",
       "      <th></th>\n",
       "      <th>title</th>\n",
       "      <th>summary</th>\n",
       "      <th>hypertension-status</th>\n",
       "      <th>Age</th>\n",
       "    </tr>\n",
       "  </thead>\n",
       "  <tbody>\n",
       "    <tr>\n",
       "      <th>0</th>\n",
       "      <td>Pneumonia (Community-Acquired)</td>\n",
       "      <td>The patient is a 67-year-old female with a his...</td>\n",
       "      <td>1</td>\n",
       "      <td>67</td>\n",
       "    </tr>\n",
       "    <tr>\n",
       "      <th>1</th>\n",
       "      <td>Acute Cholecystitis</td>\n",
       "      <td>The patient is a 49-year-old male with a BMI o...</td>\n",
       "      <td>0</td>\n",
       "      <td>49</td>\n",
       "    </tr>\n",
       "  </tbody>\n",
       "</table>\n",
       "</div>"
      ],
      "text/plain": [
       "                            title  \\\n",
       "0  Pneumonia (Community-Acquired)   \n",
       "1             Acute Cholecystitis   \n",
       "\n",
       "                                             summary  hypertension-status  Age  \n",
       "0  The patient is a 67-year-old female with a his...                    1   67  \n",
       "1  The patient is a 49-year-old male with a BMI o...                    0   49  "
      ]
     },
     "execution_count": 4,
     "metadata": {},
     "output_type": "execute_result"
    }
   ],
   "source": [
    "dsum = pd.read_csv(\"https://raw.githubusercontent.com/centre-for-health-informatics/SPORNW-2025-EMR-Workshop/refs/heads/master/synthetic_discharge_summaries.csv\")\n",
    "print(dsum.shape)\n",
    "dsum.head(2)"
   ]
  },
  {
   "cell_type": "markdown",
   "id": "e6bec6d7",
   "metadata": {},
   "source": [
    "# Data Overview"
   ]
  },
  {
   "cell_type": "code",
   "execution_count": 6,
   "id": "95ef3bf4-01f0-4f1d-9d0b-72788f874c50",
   "metadata": {},
   "outputs": [
    {
     "data": {
      "text/plain": [
       "hypertension-status\n",
       "0    15\n",
       "1     5\n",
       "Name: count, dtype: int64"
      ]
     },
     "execution_count": 6,
     "metadata": {},
     "output_type": "execute_result"
    }
   ],
   "source": [
    "dsum['hypertension-status'].value_counts()"
   ]
  },
  {
   "cell_type": "code",
   "execution_count": 7,
   "id": "34c4c404-d5a0-431c-acea-c10d4edd2cce",
   "metadata": {},
   "outputs": [
    {
     "data": {
      "text/plain": [
       "count    20.000000\n",
       "mean     45.350000\n",
       "std      18.204323\n",
       "min      15.000000\n",
       "25%      30.500000\n",
       "50%      47.000000\n",
       "75%      59.000000\n",
       "max      72.000000\n",
       "Name: Age, dtype: float64"
      ]
     },
     "execution_count": 7,
     "metadata": {},
     "output_type": "execute_result"
    }
   ],
   "source": [
    "dsum['Age'].describe()"
   ]
  },
  {
   "cell_type": "code",
   "execution_count": 8,
   "id": "70986513",
   "metadata": {},
   "outputs": [
    {
     "data": {
      "text/plain": [
       "count      20.000000\n",
       "mean      721.500000\n",
       "std       208.127112\n",
       "min       504.000000\n",
       "25%       591.000000\n",
       "50%       665.500000\n",
       "75%       763.250000\n",
       "max      1361.000000\n",
       "Name: summary, dtype: float64"
      ]
     },
     "execution_count": 8,
     "metadata": {},
     "output_type": "execute_result"
    }
   ],
   "source": [
    "dsum['summary'].apply(len).describe()"
   ]
  },
  {
   "cell_type": "code",
   "execution_count": 10,
   "id": "c33b134c",
   "metadata": {},
   "outputs": [
    {
     "name": "stdout",
     "output_type": "stream",
     "text": [
      "The patient is a 24-year-old male with no significant past medical history. He presented with acute onset right lower quadrant abdominal pain, nausea, and fever. He has no known history of gastrointestinal disorders, surgeries, or chronic illness, and is a non-smoker who consumes alcohol occasionally. Family history is non-contributory, with no known family history of abdominal disorders.\n",
      "\n",
      "However, the patient’s maternal grandmother has a history of hypertension and diabetes, which was noted during family history assessment.\n",
      "\n",
      "The prognosis is excellent post-appendectomy, as the condition was identified early, and there were no signs of rupture or peritonitis. Barring complications, the patient is expected to return to full function within 2-4 weeks.\n",
      "\n",
      "The patient underwent a laparoscopic appendectomy within 12 hours of presentation. Intraoperative findings were consistent with uncomplicated appendicitis. Post-operative recovery was uneventful, and he tolerated oral intake on postoperative day one. He remained afebrile and ambulatory with good wound healing.\n",
      "\n",
      "The patient is discharged on a 7-day course of oral antibiotics (amoxicillin-clavulanate) and acetaminophen for pain management. He was instructed to avoid strenuous activities and heavy lifting for at least two weeks. Instructions were given regarding wound care and signs of infection.\n"
     ]
    }
   ],
   "source": [
    "print(dsum['summary'].iloc[0])"
   ]
  },
  {
   "cell_type": "markdown",
   "id": "66d1a921",
   "metadata": {},
   "source": [
    "# Determining disease status with Natural Language Processing (NLP)"
   ]
  },
  {
   "cell_type": "markdown",
   "id": "5bcad57c",
   "metadata": {},
   "source": [
    "## Keyword Search"
   ]
  },
  {
   "cell_type": "code",
   "execution_count": 9,
   "id": "8a6d8446-9ec1-46ba-9e3e-7d81db3d593d",
   "metadata": {},
   "outputs": [
    {
     "name": "stdout",
     "output_type": "stream",
     "text": [
      "8\n"
     ]
    },
    {
     "data": {
      "text/plain": [
       "0     True\n",
       "1    False\n",
       "2    False\n",
       "3     True\n",
       "4     True\n",
       "Name: summary, dtype: bool"
      ]
     },
     "execution_count": 9,
     "metadata": {},
     "output_type": "execute_result"
    }
   ],
   "source": [
    "htn = dsum['summary'].str.contains('hypertension')\n",
    "print(htn.sum())\n",
    "htn.head()"
   ]
  },
  {
   "cell_type": "markdown",
   "id": "4ba165be",
   "metadata": {},
   "source": [
    "## How well does this work?\n",
    " - what metrics can we use to assess the performance of our methods"
   ]
  },
  {
   "cell_type": "markdown",
   "id": "002b82fd",
   "metadata": {},
   "source": [
    "### Accuracy\n",
    "- What fraction do we get correct, where 1 is perfect and 0 is perfectly wrong"
   ]
  },
  {
   "cell_type": "code",
   "execution_count": null,
   "id": "81f7a0f4-9dd2-4fec-bc84-bb24a127b9fd",
   "metadata": {},
   "outputs": [],
   "source": [
    "def acc(reference_labels, our_predictions):\n",
    "    ll = reference_labels == our_predictions"
   ]
  },
  {
   "cell_type": "markdown",
   "id": "9aa22d5e",
   "metadata": {},
   "source": [
    "### PPV"
   ]
  },
  {
   "cell_type": "markdown",
   "id": "ed4885f1",
   "metadata": {},
   "source": [
    "### Sensitivity"
   ]
  },
  {
   "cell_type": "markdown",
   "id": "3b39b0b8",
   "metadata": {},
   "source": [
    "### NPV"
   ]
  },
  {
   "cell_type": "markdown",
   "id": "1834937e",
   "metadata": {},
   "source": [
    "### Specificity"
   ]
  },
  {
   "cell_type": "markdown",
   "id": "84b2b2f0",
   "metadata": {},
   "source": [
    "### Put them all together in one performance function"
   ]
  },
  {
   "cell_type": "markdown",
   "id": "fb156197",
   "metadata": {},
   "source": [
    "## Where are we getting it wrong?"
   ]
  },
  {
   "cell_type": "markdown",
   "id": "c810c417",
   "metadata": {},
   "source": [
    "### False Positives"
   ]
  },
  {
   "cell_type": "markdown",
   "id": "4cdee311",
   "metadata": {},
   "source": [
    "### False Negatives"
   ]
  },
  {
   "cell_type": "markdown",
   "id": "56d2bd9f",
   "metadata": {
    "jp-MarkdownHeadingCollapsed": true
   },
   "source": [
    "## Regular Expressions\n",
    "https://www.rexegg.com/regex-quickstart.php"
   ]
  },
  {
   "cell_type": "markdown",
   "id": "b911c176",
   "metadata": {},
   "source": [
    "## Negations"
   ]
  },
  {
   "cell_type": "markdown",
   "id": "dd15390a",
   "metadata": {},
   "source": [
    "## Uncertainty"
   ]
  },
  {
   "cell_type": "markdown",
   "id": "48cef433",
   "metadata": {},
   "source": [
    "## Extracting Values"
   ]
  },
  {
   "cell_type": "markdown",
   "id": "c7abb41b",
   "metadata": {},
   "source": [
    "## Family history"
   ]
  },
  {
   "cell_type": "markdown",
   "id": "45e2237a",
   "metadata": {},
   "source": [
    "## LLM"
   ]
  }
 ],
 "metadata": {
  "kernelspec": {
   "display_name": "leaderboard",
   "language": "python",
   "name": "leaderboard"
  },
  "language_info": {
   "codemirror_mode": {
    "name": "ipython",
    "version": 3
   },
   "file_extension": ".py",
   "mimetype": "text/x-python",
   "name": "python",
   "nbconvert_exporter": "python",
   "pygments_lexer": "ipython3",
   "version": "3.11.11"
  },
  "toc-autonumbering": true
 },
 "nbformat": 4,
 "nbformat_minor": 5
}
