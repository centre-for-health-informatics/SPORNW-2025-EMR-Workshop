{
 "cells": [
  {
   "cell_type": "markdown",
   "id": "90bae355",
   "metadata": {},
   "source": [
    "# SPOR NW 2025: Exploring the Potential of Electronic Medical Records"
   ]
  },
  {
   "cell_type": "markdown",
   "id": "771e74d2",
   "metadata": {},
   "source": [
    "## Load some made up discharge summaries"
   ]
  },
  {
   "cell_type": "code",
   "execution_count": 1,
   "id": "82d7af62",
   "metadata": {},
   "outputs": [],
   "source": [
    "import pandas as pd"
   ]
  },
  {
   "cell_type": "code",
   "execution_count": 44,
   "id": "88b7cb3a",
   "metadata": {},
   "outputs": [
    {
     "name": "stdout",
     "output_type": "stream",
     "text": [
      "(20, 4)\n"
     ]
    },
    {
     "data": {
      "text/html": [
       "<div>\n",
       "<style scoped>\n",
       "    .dataframe tbody tr th:only-of-type {\n",
       "        vertical-align: middle;\n",
       "    }\n",
       "\n",
       "    .dataframe tbody tr th {\n",
       "        vertical-align: top;\n",
       "    }\n",
       "\n",
       "    .dataframe thead th {\n",
       "        text-align: right;\n",
       "    }\n",
       "</style>\n",
       "<table border=\"1\" class=\"dataframe\">\n",
       "  <thead>\n",
       "    <tr style=\"text-align: right;\">\n",
       "      <th></th>\n",
       "      <th>title</th>\n",
       "      <th>summary</th>\n",
       "      <th>hypertension-status</th>\n",
       "      <th>Age</th>\n",
       "    </tr>\n",
       "  </thead>\n",
       "  <tbody>\n",
       "    <tr>\n",
       "      <th>0</th>\n",
       "      <td>Pneumonia (Community-Acquired)</td>\n",
       "      <td>The patient is a 67-year-old female with a his...</td>\n",
       "      <td>1</td>\n",
       "      <td>67</td>\n",
       "    </tr>\n",
       "    <tr>\n",
       "      <th>1</th>\n",
       "      <td>Acute Cholecystitis</td>\n",
       "      <td>The patient is a 49-year-old male with a BMI o...</td>\n",
       "      <td>0</td>\n",
       "      <td>49</td>\n",
       "    </tr>\n",
       "  </tbody>\n",
       "</table>\n",
       "</div>"
      ],
      "text/plain": [
       "                            title  \\\n",
       "0  Pneumonia (Community-Acquired)   \n",
       "1             Acute Cholecystitis   \n",
       "\n",
       "                                             summary  hypertension-status  Age  \n",
       "0  The patient is a 67-year-old female with a his...                    1   67  \n",
       "1  The patient is a 49-year-old male with a BMI o...                    0   49  "
      ]
     },
     "execution_count": 44,
     "metadata": {},
     "output_type": "execute_result"
    }
   ],
   "source": [
    "dsum = pd.read_csv(\"https://raw.githubusercontent.com/centre-for-health-informatics/SPORNW-2025-EMR-Workshop/refs/heads/master/synthetic_discharge_summaries.csv\")\n",
    "print(dsum.shape)\n",
    "dsum.head(2)"
   ]
  },
  {
   "cell_type": "markdown",
   "id": "e6bec6d7",
   "metadata": {},
   "source": [
    "# Data Overview"
   ]
  },
  {
   "cell_type": "code",
   "execution_count": 43,
   "id": "95ef3bf4-01f0-4f1d-9d0b-72788f874c50",
   "metadata": {},
   "outputs": [
    {
     "data": {
      "text/plain": [
       "hypertension-status\n",
       "0    15\n",
       "1     5\n",
       "Name: count, dtype: int64"
      ]
     },
     "execution_count": 43,
     "metadata": {},
     "output_type": "execute_result"
    }
   ],
   "source": [
    "dsum['hypertension-status'].value_counts()"
   ]
  },
  {
   "cell_type": "code",
   "execution_count": 34,
   "id": "55c593d8-224c-4727-9033-38deefafa640",
   "metadata": {},
   "outputs": [
    {
     "data": {
      "text/plain": [
       "0.25"
      ]
     },
     "execution_count": 34,
     "metadata": {},
     "output_type": "execute_result"
    }
   ],
   "source": [
    "(dsum['hypertension-status']==1).sum()/dsum.shape[0]"
   ]
  },
  {
   "cell_type": "code",
   "execution_count": 28,
   "id": "34c4c404-d5a0-431c-acea-c10d4edd2cce",
   "metadata": {},
   "outputs": [
    {
     "data": {
      "text/plain": [
       "count    20.000000\n",
       "mean     45.350000\n",
       "std      18.204323\n",
       "min      15.000000\n",
       "25%      30.500000\n",
       "50%      47.000000\n",
       "75%      59.000000\n",
       "max      72.000000\n",
       "Name: Age, dtype: float64"
      ]
     },
     "execution_count": 28,
     "metadata": {},
     "output_type": "execute_result"
    }
   ],
   "source": [
    "dsum['Age'].describe()"
   ]
  },
  {
   "cell_type": "code",
   "execution_count": 29,
   "id": "70986513",
   "metadata": {},
   "outputs": [
    {
     "data": {
      "text/plain": [
       "count      20.000000\n",
       "mean      721.500000\n",
       "std       208.127112\n",
       "min       504.000000\n",
       "25%       591.000000\n",
       "50%       665.500000\n",
       "75%       763.250000\n",
       "max      1361.000000\n",
       "Name: summary, dtype: float64"
      ]
     },
     "execution_count": 29,
     "metadata": {},
     "output_type": "execute_result"
    }
   ],
   "source": [
    "dsum['summary'].apply(len).describe()"
   ]
  },
  {
   "cell_type": "code",
   "execution_count": 30,
   "id": "c33b134c",
   "metadata": {},
   "outputs": [
    {
     "name": "stdout",
     "output_type": "stream",
     "text": [
      "The patient is a 67-year-old female with a history of hypertension and type 2 diabetes mellitus. She presented with a 3-day history of fever, productive cough, and shortness of breath. Her physical exam revealed crackles in the right lower lung field. Family history includes a mother with a history of lung cancer and a father who had hypertension and coronary artery disease.\n",
      "\n",
      "The patient was diagnosed with community-acquired pneumonia (CAP) and treated with a course of intravenous ceftriaxone and azithromycin. Her fever resolved by day three, and she demonstrated significant clinical improvement. The patient was switched to oral antibiotics on day five and discharged after a 7-day course.\n",
      "\n",
      "She was advised to monitor her blood glucose levels closely and avoid smoking, as it may worsen her lung condition. The patient was instructed to follow up with her primary care physician within one week to ensure continued improvement.\n"
     ]
    }
   ],
   "source": [
    "print(dsum['summary'].iloc[0])"
   ]
  },
  {
   "cell_type": "markdown",
   "id": "66d1a921",
   "metadata": {},
   "source": [
    "# Determining disease status with Natural Language Processing (NLP)"
   ]
  },
  {
   "cell_type": "markdown",
   "id": "5bcad57c",
   "metadata": {},
   "source": [
    "## Keyword Search"
   ]
  },
  {
   "cell_type": "code",
   "execution_count": 49,
   "id": "8a6d8446-9ec1-46ba-9e3e-7d81db3d593d",
   "metadata": {},
   "outputs": [
    {
     "name": "stdout",
     "output_type": "stream",
     "text": [
      "7\n"
     ]
    },
    {
     "data": {
      "text/plain": [
       "0     True\n",
       "1    False\n",
       "2    False\n",
       "3    False\n",
       "4     True\n",
       "Name: summary, dtype: bool"
      ]
     },
     "execution_count": 49,
     "metadata": {},
     "output_type": "execute_result"
    }
   ],
   "source": [
    "htn_1 = dsum['summary'].str.contains('hypertension')\n",
    "print(htn_1.sum())\n",
    "htn_1.head()"
   ]
  },
  {
   "cell_type": "markdown",
   "id": "4ba165be",
   "metadata": {},
   "source": [
    "## How well does this work?\n",
    " - what metrics can we use to assess the performance of our methods"
   ]
  },
  {
   "cell_type": "markdown",
   "id": "002b82fd",
   "metadata": {},
   "source": [
    "### Accuracy\n",
    "- What fraction do we get correct, where 1 is perfect and 0 is perfectly wrong"
   ]
  },
  {
   "cell_type": "code",
   "execution_count": 50,
   "id": "a3bfbac6-bbdb-4ea3-b1b5-bed51b9221fd",
   "metadata": {},
   "outputs": [
    {
     "data": {
      "text/plain": [
       "0.6"
      ]
     },
     "execution_count": 50,
     "metadata": {},
     "output_type": "execute_result"
    }
   ],
   "source": [
    "def acc(reference_labels, our_predictions):\n",
    "    ll = reference_labels == our_predictions\n",
    "    return ll.sum()/ll.shape[0]\n",
    "\n",
    "acc(dsum['hypertension-status'],htn_1)"
   ]
  },
  {
   "cell_type": "markdown",
   "id": "9aa22d5e",
   "metadata": {},
   "source": [
    "### PPV"
   ]
  },
  {
   "cell_type": "code",
   "execution_count": 51,
   "id": "f6cb0443-67a2-4f50-913c-16415b33f865",
   "metadata": {},
   "outputs": [
    {
     "data": {
      "text/plain": [
       "0.2857142857142857"
      ]
     },
     "execution_count": 51,
     "metadata": {},
     "output_type": "execute_result"
    }
   ],
   "source": [
    "def ppv(reference_labels, our_predictions):\n",
    "    ll = (reference_labels == 1) & (our_predictions == 1)\n",
    "    return ll.sum()/our_predictions.sum()\n",
    "\n",
    "ppv(dsum['hypertension-status'],htn_1)"
   ]
  },
  {
   "cell_type": "markdown",
   "id": "ed4885f1",
   "metadata": {},
   "source": [
    "### Sensitivity"
   ]
  },
  {
   "cell_type": "code",
   "execution_count": 52,
   "id": "93dd4a47-f0bd-4064-8749-60330eac39fa",
   "metadata": {},
   "outputs": [
    {
     "data": {
      "text/plain": [
       "0.4"
      ]
     },
     "execution_count": 52,
     "metadata": {},
     "output_type": "execute_result"
    }
   ],
   "source": [
    "def sen(reference_labels, our_predictions):\n",
    "    ll = (reference_labels == 1) & (our_predictions == 1)\n",
    "    return ll.sum()/reference_labels.sum()\n",
    "\n",
    "sen(dsum['hypertension-status'],htn_1)"
   ]
  },
  {
   "cell_type": "markdown",
   "id": "3b39b0b8",
   "metadata": {},
   "source": [
    "### NPV"
   ]
  },
  {
   "cell_type": "code",
   "execution_count": 54,
   "id": "1ddbfb59-216e-4042-a905-a5fb75e6bc59",
   "metadata": {},
   "outputs": [
    {
     "data": {
      "text/plain": [
       "0.7692307692307693"
      ]
     },
     "execution_count": 54,
     "metadata": {},
     "output_type": "execute_result"
    }
   ],
   "source": [
    "def npv(reference_labels, our_predictions):\n",
    "    ll = (reference_labels == 0) & (our_predictions == 0)\n",
    "    return ll.sum()/(~our_predictions).sum()\n",
    "\n",
    "npv(dsum['hypertension-status'],htn_1)"
   ]
  },
  {
   "cell_type": "markdown",
   "id": "1834937e",
   "metadata": {},
   "source": [
    "### Specificity"
   ]
  },
  {
   "cell_type": "code",
   "execution_count": 55,
   "id": "686569d8-08ee-48fc-b46b-88f8910539ab",
   "metadata": {},
   "outputs": [
    {
     "data": {
      "text/plain": [
       "0.6666666666666666"
      ]
     },
     "execution_count": 55,
     "metadata": {},
     "output_type": "execute_result"
    }
   ],
   "source": [
    "def spe(reference_labels, our_predictions):\n",
    "    ll = (reference_labels == 0) & (our_predictions == 0)\n",
    "    return ll.sum()/(reference_labels==0).sum()\n",
    "\n",
    "spe(dsum['hypertension-status'],htn_1)"
   ]
  },
  {
   "cell_type": "markdown",
   "id": "84b2b2f0",
   "metadata": {},
   "source": [
    "### Put them all together in one performance function"
   ]
  },
  {
   "cell_type": "code",
   "execution_count": 57,
   "id": "9224b33d-6653-4bd9-9d8e-679f4ec3e7a6",
   "metadata": {},
   "outputs": [
    {
     "name": "stdout",
     "output_type": "stream",
     "text": [
      "accuracy = 0.6\n",
      "PPV = 0.29\n",
      "Sensitivity = 0.4\n",
      "NPV = 0.77\n",
      "Specificity = 0.67\n"
     ]
    }
   ],
   "source": [
    "def stats(reference_labels, our_predictions):\n",
    "    print(\n",
    "        f\"accuracy = {acc(reference_labels, our_predictions):.2}\",\n",
    "        f\"PPV = {ppv(reference_labels, our_predictions):.2}\",\n",
    "        f\"Sensitivity = {sen(reference_labels, our_predictions):.2}\",\n",
    "        f\"NPV = {npv(reference_labels, our_predictions):.2}\",\n",
    "        f\"Specificity = {spe(reference_labels, our_predictions):.2}\",\n",
    "        sep='\\n',\n",
    "    )\n",
    "stats(dsum['hypertension-status'],htn_1)"
   ]
  },
  {
   "cell_type": "markdown",
   "id": "fb156197",
   "metadata": {},
   "source": [
    "## Where are we getting it wrong?"
   ]
  },
  {
   "cell_type": "markdown",
   "id": "c810c417",
   "metadata": {},
   "source": [
    "### False Positives"
   ]
  },
  {
   "cell_type": "code",
   "execution_count": 64,
   "id": "0ed0ea41-7d4a-4108-9d45-e363e8fcf0bb",
   "metadata": {},
   "outputs": [
    {
     "name": "stdout",
     "output_type": "stream",
     "text": [
      "5\n",
      "The patient is a 58-year-old diabetic male presenting with redness, warmth, and swelling over his left lower leg. No history of hypertension. He denied any trauma or recent infection in the area. Physical exam revealed localized cellulitis without signs of abscess formation. His blood glucose levels were elevated at the time of admission, reflecting poor diabetes control.\n",
      "\n",
      "The patient was treated with IV antibiotics (vancomycin and piperacillin-tazobactam) for 48 hours, followed by a 7-day course of oral antibiotics (cephalexin). Blood glucose levels were closely monitored, and adjustments were made to his diabetic regimen during hospitalization.\n",
      "\n",
      "The patient was discharged with instructions to keep the leg elevated, monitor for signs of worsening infection, and follow up with his primary care physician in one week.\n"
     ]
    }
   ],
   "source": [
    "def fp(reference_labels, our_predictions):\n",
    "    ll = (reference_labels == 0) & (our_predictions == 1)\n",
    "    n = ll.sum()\n",
    "    print(n)\n",
    "    if n > 0:\n",
    "        print(dsum['summary'].loc[ll].iloc[0])\n",
    "    \n",
    "fp(dsum['hypertension-status'],htn)"
   ]
  },
  {
   "cell_type": "markdown",
   "id": "4cdee311",
   "metadata": {},
   "source": [
    "### False Negatives"
   ]
  },
  {
   "cell_type": "code",
   "execution_count": 62,
   "id": "e2448df2-06a5-4542-a39a-03b0a241e509",
   "metadata": {},
   "outputs": [
    {
     "name": "stdout",
     "output_type": "stream",
     "text": [
      "3\n",
      "The patient is a 62-year-old male with a history of gout. Hypertension present for the past 5 years. He presented with severe pain and swelling in his right great toe. His uric acid level was elevated, and joint aspiration confirmed monosodium urate crystals.\n",
      "\n",
      "The patient was treated with colchicine and NSAIDs for symptom management, and his uric acid levels were adjusted with allopurinol. He was discharged after 48 hours of treatment, with instructions to avoid purine-rich foods and alcohol.\n",
      "\n",
      "He was advised to follow up with his rheumatologist in one month for further management.\n"
     ]
    }
   ],
   "source": [
    "def fn(reference_labels, our_predictions):\n",
    "    ll = (reference_labels == 1) & (our_predictions == 0)\n",
    "    n = ll.sum()\n",
    "    print(n)\n",
    "    if n > 0:\n",
    "        print(dsum['summary'].loc[ll].iloc[0])\n",
    "    \n",
    "fn(dsum['hypertension-status'],htn_1)"
   ]
  },
  {
   "cell_type": "markdown",
   "id": "56d2bd9f",
   "metadata": {},
   "source": [
    "## Regular Expressions\n",
    "https://www.rexegg.com/regex-quickstart.php"
   ]
  },
  {
   "cell_type": "markdown",
   "id": "e53bb9c8-4b53-4b95-a966-157f630170d8",
   "metadata": {},
   "source": [
    "### Can We clear up our False Negatives first?"
   ]
  },
  {
   "cell_type": "code",
   "execution_count": 59,
   "id": "e5ae09ca-3720-4267-93e7-4e26352631a2",
   "metadata": {},
   "outputs": [
    {
     "name": "stdout",
     "output_type": "stream",
     "text": [
      "2\n",
      "The patient is a 55-year-old male with intermittent asthma. He presented with wheezing, shortness of breath, and cough, which had worsened over the past 48 hours following a viral upper respiratory tract infection. History of HTN. Family history includes a mother with asthma and a brother with allergic rhinitis.\n",
      "\n",
      "The patient was treated with nebulized albuterol and systemic corticosteroids. He showed rapid improvement and was discharged after 24 hours with instructions to use a prescribed inhaler (albuterol) and a 5-day course of prednisone.\n",
      "\n",
      "The patient was advised to avoid triggers such as smoke and dust and to follow up with his pediatric pulmonologist within one week.\n"
     ]
    }
   ],
   "source": [
    "htn_2 = dsum['summary'].str.contains(\"(?i)hypertension\",regex=True)\n",
    "fn(dsum['hypertension-status'],htn_2)"
   ]
  },
  {
   "cell_type": "code",
   "execution_count": 66,
   "id": "f277035b-2633-4678-9981-c8bdb385d76f",
   "metadata": {
    "scrolled": true
   },
   "outputs": [
    {
     "name": "stdout",
     "output_type": "stream",
     "text": [
      "1\n",
      "The patient is a 58-year-old female  presenting with severe headache, blurred vision, and chest discomfort, suggesting a hypertensive crisis. Her blood pressure was recorded at 220/130 mmHg upon arrival.\n",
      "\n",
      "The patient was started on IV labetalol and was closely monitored in the ICU. Her blood pressure was controlled over 48 hours, and she was transitioned to oral antihypertensives. Upon discharge, she was instructed to monitor her blood pressure at home and follow up with her cardiologist in one week.\n"
     ]
    }
   ],
   "source": [
    "htn_3 = dsum['summary'].str.contains(\"(?i)(?:hypertension|htn)\",regex=True)\n",
    "fn(dsum['hypertension-status'],htn_3)"
   ]
  },
  {
   "cell_type": "code",
   "execution_count": 67,
   "id": "c521030e-f238-47b7-afa7-db439ac85b40",
   "metadata": {},
   "outputs": [
    {
     "name": "stdout",
     "output_type": "stream",
     "text": [
      "0\n"
     ]
    }
   ],
   "source": [
    "htn_4 = dsum['summary'].str.contains(\"(?i)(?:hypertension|htn|hypertensive)\",regex=True)\n",
    "fn(dsum['hypertension-status'],htn_4)"
   ]
  },
  {
   "cell_type": "markdown",
   "id": "233a397e-a9e6-4820-96b3-96ce32e29d5e",
   "metadata": {},
   "source": [
    "### How do the False Positives look now after those changes?"
   ]
  },
  {
   "cell_type": "code",
   "execution_count": 68,
   "id": "679255fe-e35b-4008-b010-ab5302ffe549",
   "metadata": {},
   "outputs": [
    {
     "name": "stdout",
     "output_type": "stream",
     "text": [
      "6\n",
      "The patient is a 49-year-old male with a BMI of 35 and a history of gallstones, and struck by lightning 5 years ago. He presented with a 48-hour history of severe right upper quadrant pain, nausea, and vomiting. Ultrasound confirmed acute cholecystitis with no signs of gallbladder perforation or abscess formation. The patient has a known family history of gallbladder disease in his mother, who underwent cholecystectomy. His father had type 2 diabetes, and he is currently overweight with elevated blood sugar.\n",
      "\n",
      "The patient underwent a laparoscopic cholecystectomy within 24 hours of presentation. Intraoperative findings included an inflamed but intact gallbladder with no complications. His post-operative recovery was uncomplicated, and he was started on clear liquids within 6 hours.\n",
      "\n",
      "Discharge instructions included a low-fat diet for the next few weeks and recommendations for weight management. He is prescribed a 7-day course of oral antibiotics (ciprofloxacin) and pain management with acetaminophen.\n",
      "\n",
      "The patient was instructed to avoid heavy lifting for 2-4 weeks and follow up with general surgery in one week.\n"
     ]
    }
   ],
   "source": [
    "fp(dsum['hypertension-status'],htn_4)"
   ]
  },
  {
   "cell_type": "markdown",
   "id": "b911c176",
   "metadata": {},
   "source": [
    "## Negations"
   ]
  },
  {
   "cell_type": "markdown",
   "id": "dd15390a",
   "metadata": {},
   "source": [
    "## Uncertainty"
   ]
  },
  {
   "cell_type": "markdown",
   "id": "48cef433",
   "metadata": {},
   "source": [
    "## Extracting Values"
   ]
  },
  {
   "cell_type": "markdown",
   "id": "c7abb41b",
   "metadata": {},
   "source": [
    "## Family history"
   ]
  },
  {
   "cell_type": "markdown",
   "id": "45e2237a",
   "metadata": {},
   "source": [
    "## LLM"
   ]
  }
 ],
 "metadata": {
  "kernelspec": {
   "display_name": "leaderboard",
   "language": "python",
   "name": "leaderboard"
  },
  "language_info": {
   "codemirror_mode": {
    "name": "ipython",
    "version": 3
   },
   "file_extension": ".py",
   "mimetype": "text/x-python",
   "name": "python",
   "nbconvert_exporter": "python",
   "pygments_lexer": "ipython3",
   "version": "3.11.11"
  },
  "toc-autonumbering": true
 },
 "nbformat": 4,
 "nbformat_minor": 5
}
